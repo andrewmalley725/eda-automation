{
 "cells": [
  {
   "cell_type": "markdown",
   "metadata": {},
   "source": [
    "# MLR Functions"
   ]
  },
  {
   "cell_type": "code",
   "execution_count": 1,
   "metadata": {},
   "outputs": [],
   "source": [
    "def mlr(df, label):\n",
    "  from sklearn import preprocessing\n",
    "  import numpy as np\n",
    "  import pandas as pd\n",
    "  import statsmodels.api as sm\n",
    "  df_dummy = df.copy() \n",
    "  for col in df_dummy:\n",
    "    if not pd.api.types.is_numeric_dtype(df_dummy[col]): \n",
    "      df_dummy = df_dummy.join(pd.get_dummies(df_dummy[col], prefix=col, drop_first=True))\n",
    "  df_num = df_dummy.select_dtypes(np.number)\n",
    "  df_minmax = pd.DataFrame(preprocessing.MinMaxScaler().fit_transform(df_num), columns=df_num.columns)\n",
    "  df_minmax.head()\n",
    "  y = df_minmax[label]\n",
    "  X = df_minmax.select_dtypes(np.number).assign(const=1)\n",
    "  X=df_minmax.drop(columns=[label]).assign(const=1)\n",
    "  model=sm.OLS(y,X)\n",
    "  results=model.fit()\n",
    "  return results\n",
    "  "
   ]
  },
  {
   "cell_type": "code",
   "execution_count": 3,
   "metadata": {},
   "outputs": [],
   "source": [
    "#calculate metrics\n",
    "\n",
    "def calculateMetrics(df, label):\n",
    "  import numpy as np\n",
    "  import statsmodels.api as sm\n",
    "  import pandas as pd\n",
    "  for i in df:\n",
    "    if not pd.api.types.is_numeric_dtype(df[i]):\n",
    "      df = df.join(pd.get_dummies(df[i], prefix=i, drop_first=True))\n",
    "  y = df[label]\n",
    "  X = df.select_dtypes(np.number).assign(const=1)\n",
    "  X = X.drop(columns=[label])\n",
    "  model1 = sm.OLS(y,X)\n",
    "  results1 = model1.fit()\n",
    "  residuals = np.array(df[label]) - np.array(results1.fittedvalues)\n",
    "  rmse = np.sqrt(sum(residuals**2) / len(df[label]))\n",
    "  mae = np.mean(abs(residuals))\n",
    "  dit = {\n",
    "      'RMSE' : round(rmse,4),\n",
    "      'MAE' : round(mae,4),\n",
    "      'R-Squared' : round(results1.rsquared,4),\n",
    "      'Label Mean' : round(np.mean(df[label]),4)\n",
    "  }\n",
    "  return dit\n",
    "\n",
    "def calculateMLRandMetrics(df, label):\n",
    "  results = mlr(df, label)\n",
    "  print(results.summary())\n",
    "  print(\"\\nMLR Metrics\\n\")\n",
    "  print(calculateMetrics(df, label))"
   ]
  }
 ],
 "metadata": {
  "kernelspec": {
   "display_name": "Python 3",
   "language": "python",
   "name": "python3"
  },
  "language_info": {
   "codemirror_mode": {
    "name": "ipython",
    "version": 3
   },
   "file_extension": ".py",
   "mimetype": "text/x-python",
   "name": "python",
   "nbconvert_exporter": "python",
   "pygments_lexer": "ipython3",
   "version": "3.10.5"
  }
 },
 "nbformat": 4,
 "nbformat_minor": 2
}
