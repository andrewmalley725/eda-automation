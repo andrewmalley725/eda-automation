{
 "cells": [
  {
   "cell_type": "markdown",
   "metadata": {},
   "source": [
    "# Check 5 Regression Assumptions"
   ]
  },
  {
   "cell_type": "code",
   "execution_count": 8,
   "metadata": {},
   "outputs": [],
   "source": [
    "#Assumption 1 - linear relationship\n",
    "\n",
    "def assumption1LinearRelationship(df, label):\n",
    "  import pandas as pd\n",
    "  import seaborn as sns\n",
    "  from scipy import stats\n",
    "  import matplotlib.pyplot as plt\n",
    "  new_df = pd.DataFrame(columns=['r-value'])\n",
    "  for col in df:\n",
    "    if pd.api.types.is_numeric_dtype(df[col]) and col != label and df[col].isnull().sum() == 0:\n",
    "      r = numericToNumericStats(df, col, label)[1][0]\n",
    "      if abs(r) < 0.5:\n",
    "        plot = createScatterPlot(df, col, label)\n",
    "        new_df.loc[col] = [round(r,2)]\n",
    "  new_df = new_df.sort_values(by=['r-value'], ascending=False)\n",
    "  return new_df"
   ]
  },
  {
   "cell_type": "code",
   "execution_count": 9,
   "metadata": {},
   "outputs": [],
   "source": [
    "#Assumption 2 - Multicollinearity\n",
    "\n",
    "def assumption2Multicollinearity(df, label):\n",
    "  from sklearn.linear_model import LinearRegression\n",
    "  import pandas as pd\n",
    "  lst = ['int16','int32','int64','float16','float32','float64']\n",
    "  ndf = df.select_dtypes(include=lst)\n",
    "  ndf = ndf.drop([label], axis=1)\n",
    "  vif_dict = {}\n",
    "  for col in ndf:\n",
    "    y = ndf[col]\n",
    "    x = ndf.drop(columns=[col])\n",
    "    r2 = LinearRegression().fit(x,y).score(x,y)\n",
    "    vif = 1/(1-r2)\n",
    "    vif_dict[col] = round(vif,4)\n",
    "  fin = pd.DataFrame({'VIF': vif_dict}).sort_values('VIF')\n",
    "  fin = fin.sort_values(by='VIF', ascending=False)\n",
    "  return fin\n"
   ]
  },
  {
   "cell_type": "code",
   "execution_count": 10,
   "metadata": {},
   "outputs": [],
   "source": [
    "#assumption 3 - independance\n",
    "def assumption3Independence(df, label):\n",
    "  oString = ''\n",
    "  import pandas as pd\n",
    "  import statsmodels.api as sm\n",
    "  from statsmodels.stats.stattools import durbin_watson\n",
    "  import numpy as np\n",
    "  results = mlr(df,label)\n",
    "  dw = durbin_watson(results.resid)\n",
    "  if dw > 2.5 or dw < 1.5:\n",
    "    text = 'The Assumption is NOT met'\n",
    "  else:\n",
    "    text = 'The Assumption IS met'\n",
    "  oString = text + f'\\nDurbin Watson: {round(dw,3)}'\n",
    "  return oString"
   ]
  },
  {
   "cell_type": "code",
   "execution_count": 11,
   "metadata": {},
   "outputs": [],
   "source": [
    "#assumption 4\n",
    "\n",
    "def assumption4Homoscedasticity(df, label):\n",
    "  from statsmodels.compat import lzip\n",
    "  import statsmodels.stats.api as sms\n",
    "  import numpy as np\n",
    "  import pandas as pd\n",
    "  import statsmodels.api as sm\n",
    "  model = mlr(df, label)\n",
    "  bp_data = sms.het_breuschpagan(model.resid, model.model.exog)\n",
    "  (l, p) = round(bp_data[0], 4), round(bp_data[1], 4)\n",
    "  names = ['Lagrange multiplier statistic', 'p-value']\n",
    "  bp_data_dict= dict(lzip(names, (l,p)))\n",
    "  bp_df = pd.DataFrame(bp_data_dict, index = ['Breusch-Pagan Values'])\n",
    "  if bp_df.iloc[0]['p-value'] <.05:\n",
    "    text = \"The Homoscedasticity Assumption is NOT met\"\n",
    "  else:\n",
    "    text = \"The Homoscedasticity Assumption IS met\"\n",
    "  print(text)\n",
    "  return bp_df"
   ]
  },
  {
   "cell_type": "code",
   "execution_count": 12,
   "metadata": {},
   "outputs": [],
   "source": [
    "#assumption 5\n",
    "\n",
    "def assumption5MultivariateNormality(df, label):\n",
    "  import pandas as pd\n",
    "  import matplotlib.pyplot as plt\n",
    "  from statsmodels.compat import lzip\n",
    "  from scipy import stats\n",
    "  import numpy as np\n",
    "  import statsmodels.api as sm\n",
    "  from statsmodels.stats.stattools import jarque_bera\n",
    "  import scipy as sp\n",
    "  results = mlr(df,label)\n",
    "  jb, p, skew, kurt = jarque_bera(results.resid)\n",
    "  jb_data = [round(jb, 4), p]\n",
    "  names = ['Jarque-Bera test statistic', 'p-value']\n",
    "  jb_data_dict= dict(lzip(names, jb_data))\n",
    "  jb_df = pd.DataFrame(jb_data_dict, index = ['Jarque-Bera Values'])\n",
    "  print(jb_df)\n",
    "  fig, ax = plt.subplots()\n",
    "  _,(_,_,r) = sp.stats.probplot(results.resid, plot=ax, fit = True)\n",
    "  if round(r**2,1) >= 0.9:\n",
    "    text = \"The Multivariate Normality Assumption IS met\"\n",
    "  else:\n",
    "    text = \"The Multivariate Normality Assumption is NOT met\"\n",
    "  print(f'R2 = {round(r**2,4)}')\n",
    "  return text"
   ]
  },
  {
   "cell_type": "code",
   "execution_count": 13,
   "metadata": {},
   "outputs": [],
   "source": [
    "#parent function \n",
    "\n",
    "def assumptions(df, label) :\n",
    "  print(\"Assumption #1: Linear Relationship\\n\")\n",
    "  print(f'\\nVariables that don\\'t have a linear relationship with {label}\\n')\n",
    "  print(assumption1LinearRelationship(df, label))\n",
    "  print(\"\\nAssumption #2: Multicollinearity\\n\")\n",
    "  print(assumption2Multicollinearity(df, label))\n",
    "  print(\"\\nAssumption #3: Independence\\n\")\n",
    "  print(assumption3Independence(df, label))\n",
    "  print(\"\\nAssumption #4: Homoscedasticity\\n\")\n",
    "  print(assumption4Homoscedasticity(df, label))\n",
    "  print(\"\\nAssumption #5: Multivariate Normality\\n\")\n",
    "  print(assumption5MultivariateNormality(df, label))"
   ]
  },
  {
   "cell_type": "code",
   "execution_count": null,
   "metadata": {},
   "outputs": [],
   "source": []
  }
 ],
 "metadata": {
  "kernelspec": {
   "display_name": "Python 3",
   "language": "python",
   "name": "python3"
  },
  "language_info": {
   "codemirror_mode": {
    "name": "ipython",
    "version": 3
   },
   "file_extension": ".py",
   "mimetype": "text/x-python",
   "name": "python",
   "nbconvert_exporter": "python",
   "pygments_lexer": "ipython3",
   "version": "3.10.5"
  }
 },
 "nbformat": 4,
 "nbformat_minor": 2
}
